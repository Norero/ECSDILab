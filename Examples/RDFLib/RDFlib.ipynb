{
 "worksheets": [
  {
   "cells": [
    {
     "cell_type": "heading",
     "metadata": {},
     "level": 1,
     "source": [
      "Ejemplos de RDFlib"
     ]
    },
    {
     "cell_type": "markdown",
     "metadata": {},
     "source": [
      "Ejemplos de como usar rdflib para representar conceptos"
     ]
    },
    {
     "cell_type": "markdown",
     "metadata": {},
     "source": [
      "Creamos un grafo de conceptos vacío y un espacio de nombres que usaremos para los ejemplos"
     ]
    },
    {
     "cell_type": "code",
     "metadata": {},
     "outputs": [],
     "input": [
      "from rdflib.namespace import RDF, RDFS, Namespace, FOAF, OWL\n",
      "from rdflib import Graph, BNode, Literal\n",
      "\n",
      "g = Graph()\n",
      "\n",
      "n = Namespace('http://ejemplo.org/')\n",
      "g.bind('ejemplo', n)\n",
      "g.bind('FOAF', FOAF)\n",
      "g.bind('OWL', OWL)"
     ],
     "language": "python",
     "prompt_number": 1
    },
    {
     "cell_type": "markdown",
     "metadata": {},
     "source": [
      "Definimos un recurso que sea una persona"
     ]
    },
    {
     "cell_type": "code",
     "metadata": {},
     "outputs": [
      {
       "output_type": "pyout",
       "text": [
        "rdflib.term.URIRef(u'http://ejemplo.org/pedro')"
       ],
       "metadata": {}
      }
     ],
     "input": [
      "p1 = n.pedro\n",
      "p1"
     ],
     "language": "python",
     "prompt_number": 2
    },
    {
     "cell_type": "code",
     "metadata": {},
     "outputs": [],
     "input": [
      "g.add((p1, RDF.type, FOAF.person))"
     ],
     "language": "python",
     "prompt_number": 3
    },
    {
     "cell_type": "markdown",
     "metadata": {},
     "source": [
      "Le añadimos un atributo edad con un valor que sera de la clase literal"
     ]
    },
    {
     "cell_type": "code",
     "metadata": {},
     "outputs": [
      {
       "output_type": "pyout",
       "text": [
        "rdflib.term.Literal(u'22', datatype=rdflib.term.URIRef(u'http://www.w3.org/2001/XMLSchema#integer'))"
       ],
       "metadata": {}
      }
     ],
     "input": [
      "v = Literal(22)\n",
      "v"
     ],
     "language": "python",
     "prompt_number": 4
    },
    {
     "cell_type": "code",
     "metadata": {},
     "outputs": [],
     "input": [
      "g.add((p1, FOAF.age, v))"
     ],
     "language": "python",
     "prompt_number": 5
    },
    {
     "cell_type": "markdown",
     "metadata": {},
     "source": [
      "Podemos ver el resultado en RDF (XML)"
     ]
    },
    {
     "cell_type": "code",
     "metadata": {},
     "outputs": [
      {
       "output_type": "stream",
       "stream": "stdout",
       "text": [
        "<?xml version=\"1.0\" encoding=\"UTF-8\"?>\n<rdf:RDF\n   xmlns:FOAF=\"http://xmlns.com/foaf/0.1/\"\n   xmlns:rdf=\"http://www.w3.org/1999/02/22-rdf-syntax-ns#\"\n>\n  <rdf:Description rdf:about=\"http://ejemplo.org/pedro\">\n    <FOAF:age rdf:datatype=\"http://www.w3.org/2001/XMLSchema#integer\">22</FOAF:age>\n    <rdf:type rdf:resource=\"http://xmlns.com/foaf/0.1/person\"/>\n  </rdf:Description>\n</rdf:RDF>\n\n"
       ]
      }
     ],
     "input": [
      "print g.serialize(format='xml')"
     ],
     "language": "python",
     "prompt_number": 6
    },
    {
     "cell_type": "markdown",
     "metadata": {},
     "source": [
      "O en formato *turtle* que es un poco mas legible"
     ]
    },
    {
     "cell_type": "code",
     "metadata": {},
     "outputs": [
      {
       "output_type": "stream",
       "stream": "stdout",
       "text": [
        "@prefix FOAF: <http://xmlns.com/foaf/0.1/> .\n@prefix OWL: <http://www.w3.org/2002/07/owl#> .\n@prefix ejemplo: <http://ejemplo.org/> .\n@prefix rdf: <http://www.w3.org/1999/02/22-rdf-syntax-ns#> .\n@prefix rdfs: <http://www.w3.org/2000/01/rdf-schema#> .\n@prefix xml: <http://www.w3.org/XML/1998/namespace> .\n@prefix xsd: <http://www.w3.org/2001/XMLSchema#> .\n\nejemplo:pedro a FOAF:person ;\n    FOAF:age 22 .\n\n\n"
       ]
      }
     ],
     "input": [
      "print g.serialize(format='turtle')"
     ],
     "language": "python",
     "prompt_number": 7
    },
    {
     "cell_type": "markdown",
     "metadata": {},
     "source": [
      "Añadimos algunos hechos más al grafo"
     ]
    },
    {
     "cell_type": "code",
     "metadata": {},
     "outputs": [],
     "input": [
      "g.add((n.Barcelones, RDF.type, n.Europeo))\n",
      "g.add((n.Europeo, RDF.type, OWL.Class))\n",
      "g.add((n.Barcelones, RDFS.subClassOf, n.Europeo))"
     ],
     "language": "python",
     "prompt_number": 8
    },
    {
     "cell_type": "code",
     "metadata": {},
     "outputs": [],
     "input": [
      "g.add((p1, RDF.type, n.Barcelones))\n",
      "g.add((p1, FOAF.name, Literal('Pedro')))"
     ],
     "language": "python",
     "prompt_number": 9
    },
    {
     "cell_type": "markdown",
     "metadata": {},
     "source": [
      "Y este es el resultado"
     ]
    },
    {
     "cell_type": "code",
     "metadata": {},
     "outputs": [
      {
       "output_type": "stream",
       "stream": "stdout",
       "text": [
        "@prefix FOAF: <http://xmlns.com/foaf/0.1/> .\n@prefix OWL: <http://www.w3.org/2002/07/owl#> .\n@prefix ejemplo: <http://ejemplo.org/> .\n@prefix rdf: <http://www.w3.org/1999/02/22-rdf-syntax-ns#> .\n@prefix rdfs: <http://www.w3.org/2000/01/rdf-schema#> .\n@prefix xml: <http://www.w3.org/XML/1998/namespace> .\n@prefix xsd: <http://www.w3.org/2001/XMLSchema#> .\n\nejemplo:pedro a ejemplo:Barcelones,\n        FOAF:person ;\n    FOAF:age 22 ;\n    FOAF:name \"Pedro\" .\n\nejemplo:Barcelones a ejemplo:Europeo ;\n    rdfs:subClassOf ejemplo:Europeo .\n\nejemplo:Europeo a OWL:Class .\n\n\n"
       ]
      }
     ],
     "input": [
      "print g.serialize(format='turtle')"
     ],
     "language": "python",
     "prompt_number": 10
    },
    {
     "cell_type": "markdown",
     "metadata": {},
     "source": [
      "Ahora podemos consultar cosas sobre cual es el tipo de Pedro"
     ]
    },
    {
     "cell_type": "code",
     "metadata": {},
     "outputs": [
      {
       "output_type": "stream",
       "stream": "stdout",
       "text": [
        "http://ejemplo.org/pedro http://www.w3.org/1999/02/22-rdf-syntax-ns#type http://xmlns.com/foaf/0.1/person\nhttp://ejemplo.org/pedro http://www.w3.org/1999/02/22-rdf-syntax-ns#type http://ejemplo.org/Barcelones\n"
       ]
      }
     ],
     "input": [
      "res = g.triples((n.pedro, RDF.type, None))\n",
      "for s, p, o in res:\n",
      "    print s, p, o"
     ],
     "language": "python",
     "prompt_number": 11
    },
    {
     "cell_type": "markdown",
     "metadata": {},
     "source": [
      "Una clausura transitiva permite seguir la secuencia de definiciones de pedro"
     ]
    },
    {
     "cell_type": "code",
     "metadata": {},
     "outputs": [
      {
       "output_type": "stream",
       "stream": "stdout",
       "text": [
        "http://ejemplo.org/pedro\nhttp://xmlns.com/foaf/0.1/person\nhttp://ejemplo.org/Barcelones\nhttp://ejemplo.org/Europeo\nhttp://www.w3.org/2002/07/owl#Class\n"
       ]
      }
     ],
     "input": [
      "res = g.transitive_objects(n.pedro, RDF.type)\n",
      "for r in res:\n",
      "    print r"
     ],
     "language": "python",
     "prompt_number": 12
    },
    {
     "cell_type": "markdown",
     "metadata": {},
     "source": [
      "Tambén podemos usar el operador *in* para consultar si algo esta en el grafo"
     ]
    },
    {
     "cell_type": "code",
     "metadata": {},
     "outputs": [
      {
       "output_type": "pyout",
       "text": [
        "True"
       ],
       "metadata": {}
      }
     ],
     "input": [
      "(n.pedro, None, None) in g # ¿Habla de Pedro el grafo?"
     ],
     "language": "python",
     "prompt_number": 13
    },
    {
     "cell_type": "code",
     "metadata": {},
     "outputs": [
      {
       "output_type": "pyout",
       "text": [
        "True"
       ],
       "metadata": {}
      }
     ],
     "input": [
      "(n.pedro, FOAF.age, None) in g # ¿Tiene una edad asignada?"
     ],
     "language": "python",
     "prompt_number": 14
    },
    {
     "cell_type": "code",
     "metadata": {},
     "outputs": [
      {
       "output_type": "pyout",
       "text": [
        "True"
       ],
       "metadata": {}
      }
     ],
     "input": [
      "(n.pedro, RDF.type, n.Barcelones) in g # ¿Es Pedro Barcelones?"
     ],
     "language": "python",
     "prompt_number": 15
    },
    {
     "cell_type": "markdown",
     "metadata": {},
     "source": [
      "También podemos utilizar SPARQL para hacer las consultas ..."
     ]
    },
    {
     "cell_type": "code",
     "metadata": {},
     "outputs": [
      {
       "output_type": "stream",
       "stream": "stdout",
       "text": [
        "Pedro 22\n"
       ]
      }
     ],
     "input": [
      "res = g.query(\"\"\"\n",
      "            SELECT ?n ?e\n",
      "            WHERE { \n",
      "                ?p foaf:age ?e.\n",
      "                ?p foaf:name ?n.\n",
      "            }\n",
      "            \"\"\"\n",
      "              , initNs={'foaf': FOAF})\n",
      "for nm, e in res:\n",
      "    print nm, e"
     ],
     "language": "python",
     "prompt_number": 16
    },
    {
     "cell_type": "markdown",
     "metadata": {},
     "source": [
      "Y modificaciones en el grafo"
     ]
    },
    {
     "cell_type": "code",
     "metadata": {},
     "outputs": [],
     "input": [
      "g.update(\"\"\"\n",
      "         INSERT DATA\n",
      "         {\n",
      "          ejemplo:maria a foaf:person; foaf:name 'Maria'; foaf:edad 27.\n",
      "         }\n",
      "            \n",
      "\"\"\", initNs={'foaf': FOAF, 'ejemplo': n})"
     ],
     "language": "python",
     "prompt_number": 17
    },
    {
     "cell_type": "code",
     "metadata": {},
     "outputs": [
      {
       "output_type": "stream",
       "stream": "stdout",
       "text": [
        "@prefix FOAF: <http://xmlns.com/foaf/0.1/> .\n@prefix OWL: <http://www.w3.org/2002/07/owl#> .\n@prefix ejemplo: <http://ejemplo.org/> .\n@prefix rdf: <http://www.w3.org/1999/02/22-rdf-syntax-ns#> .\n@prefix rdfs: <http://www.w3.org/2000/01/rdf-schema#> .\n@prefix xml: <http://www.w3.org/XML/1998/namespace> .\n@prefix xsd: <http://www.w3.org/2001/XMLSchema#> .\n\nejemplo:maria a FOAF:person ;\n    FOAF:edad 27 ;\n    FOAF:name \"Maria\" .\n\nejemplo:pedro a ejemplo:Barcelones,\n        FOAF:person ;\n    FOAF:age 22 ;\n    FOAF:name \"Pedro\" .\n\nejemplo:Barcelones a ejemplo:Europeo ;\n    rdfs:subClassOf ejemplo:Europeo .\n\nejemplo:Europeo a OWL:Class .\n\n\n"
       ]
      }
     ],
     "input": [
      "print g.serialize(format='turtle')"
     ],
     "language": "python",
     "prompt_number": 18
    }
   ]
  }
 ],
 "cells": [],
 "metadata": {
  "signature": "sha256:4ee6c590e2e96bf21425d7fcf3df48ff542bc68f7ea62ebf5e22a70358b12291"
 },
 "nbformat": 3,
 "nbformat_minor": 0
}